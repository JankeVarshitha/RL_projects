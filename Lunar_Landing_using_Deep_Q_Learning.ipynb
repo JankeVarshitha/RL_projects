{
  "cells": [
    {
      "cell_type": "markdown",
      "metadata": {
        "id": "LbZcI9ZXHl3a"
      },
      "source": [
        "# Deep Q-Learning for Lunar Landing"
      ]
    },
    {
      "cell_type": "markdown",
      "metadata": {
        "id": "E8yPRjteXgPb"
      },
      "source": [
        "## Part 0 - Installing the required packages and importing the libraries"
      ]
    },
    {
      "cell_type": "markdown",
      "metadata": {
        "id": "slEm5teGWjWU"
      },
      "source": [
        "### Installing Gymnasium"
      ]
    },
    {
      "cell_type": "code",
      "execution_count": 1,
      "metadata": {
        "id": "dbnq3XpoKa_7",
        "colab": {
          "base_uri": "https://localhost:8080/"
        },
        "outputId": "b3e2ea8c-9958-4a34-84f4-9819cfbd6e48"
      },
      "outputs": [
        {
          "output_type": "stream",
          "name": "stdout",
          "text": [
            "Collecting gymnasium\n",
            "  Downloading gymnasium-0.29.1-py3-none-any.whl (953 kB)\n",
            "\u001b[2K     \u001b[90m━━━━━━━━━━━━━━━━━━━━━━━━━━━━━━━━━━━━━━━━\u001b[0m \u001b[32m953.9/953.9 kB\u001b[0m \u001b[31m10.1 MB/s\u001b[0m eta \u001b[36m0:00:00\u001b[0m\n",
            "\u001b[?25hRequirement already satisfied: numpy>=1.21.0 in /usr/local/lib/python3.10/dist-packages (from gymnasium) (1.25.2)\n",
            "Requirement already satisfied: cloudpickle>=1.2.0 in /usr/local/lib/python3.10/dist-packages (from gymnasium) (2.2.1)\n",
            "Requirement already satisfied: typing-extensions>=4.3.0 in /usr/local/lib/python3.10/dist-packages (from gymnasium) (4.11.0)\n",
            "Collecting farama-notifications>=0.0.1 (from gymnasium)\n",
            "  Downloading Farama_Notifications-0.0.4-py3-none-any.whl (2.5 kB)\n",
            "Installing collected packages: farama-notifications, gymnasium\n",
            "Successfully installed farama-notifications-0.0.4 gymnasium-0.29.1\n",
            "Requirement already satisfied: gymnasium[accept-rom-license,atari] in /usr/local/lib/python3.10/dist-packages (0.29.1)\n",
            "Requirement already satisfied: numpy>=1.21.0 in /usr/local/lib/python3.10/dist-packages (from gymnasium[accept-rom-license,atari]) (1.25.2)\n",
            "Requirement already satisfied: cloudpickle>=1.2.0 in /usr/local/lib/python3.10/dist-packages (from gymnasium[accept-rom-license,atari]) (2.2.1)\n",
            "Requirement already satisfied: typing-extensions>=4.3.0 in /usr/local/lib/python3.10/dist-packages (from gymnasium[accept-rom-license,atari]) (4.11.0)\n",
            "Requirement already satisfied: farama-notifications>=0.0.1 in /usr/local/lib/python3.10/dist-packages (from gymnasium[accept-rom-license,atari]) (0.0.4)\n",
            "Collecting shimmy[atari]<1.0,>=0.1.0 (from gymnasium[accept-rom-license,atari])\n",
            "  Downloading Shimmy-0.2.1-py3-none-any.whl (25 kB)\n",
            "Collecting autorom[accept-rom-license]~=0.4.2 (from gymnasium[accept-rom-license,atari])\n",
            "  Downloading AutoROM-0.4.2-py3-none-any.whl (16 kB)\n",
            "Requirement already satisfied: click in /usr/local/lib/python3.10/dist-packages (from autorom[accept-rom-license]~=0.4.2->gymnasium[accept-rom-license,atari]) (8.1.7)\n",
            "Requirement already satisfied: requests in /usr/local/lib/python3.10/dist-packages (from autorom[accept-rom-license]~=0.4.2->gymnasium[accept-rom-license,atari]) (2.31.0)\n",
            "Requirement already satisfied: tqdm in /usr/local/lib/python3.10/dist-packages (from autorom[accept-rom-license]~=0.4.2->gymnasium[accept-rom-license,atari]) (4.66.4)\n",
            "Collecting AutoROM.accept-rom-license (from autorom[accept-rom-license]~=0.4.2->gymnasium[accept-rom-license,atari])\n",
            "  Downloading AutoROM.accept-rom-license-0.6.1.tar.gz (434 kB)\n",
            "\u001b[2K     \u001b[90m━━━━━━━━━━━━━━━━━━━━━━━━━━━━━━━━━━━━━━━━\u001b[0m \u001b[32m434.7/434.7 kB\u001b[0m \u001b[31m9.5 MB/s\u001b[0m eta \u001b[36m0:00:00\u001b[0m\n",
            "\u001b[?25h  Installing build dependencies ... \u001b[?25l\u001b[?25hdone\n",
            "  Getting requirements to build wheel ... \u001b[?25l\u001b[?25hdone\n",
            "  Preparing metadata (pyproject.toml) ... \u001b[?25l\u001b[?25hdone\n",
            "Collecting ale-py~=0.8.1 (from shimmy[atari]<1.0,>=0.1.0->gymnasium[accept-rom-license,atari])\n",
            "  Downloading ale_py-0.8.1-cp310-cp310-manylinux_2_17_x86_64.manylinux2014_x86_64.whl (1.7 MB)\n",
            "\u001b[2K     \u001b[90m━━━━━━━━━━━━━━━━━━━━━━━━━━━━━━━━━━━━━━━━\u001b[0m \u001b[32m1.7/1.7 MB\u001b[0m \u001b[31m33.8 MB/s\u001b[0m eta \u001b[36m0:00:00\u001b[0m\n",
            "\u001b[?25hRequirement already satisfied: importlib-resources in /usr/local/lib/python3.10/dist-packages (from ale-py~=0.8.1->shimmy[atari]<1.0,>=0.1.0->gymnasium[accept-rom-license,atari]) (6.4.0)\n",
            "Requirement already satisfied: charset-normalizer<4,>=2 in /usr/local/lib/python3.10/dist-packages (from requests->autorom[accept-rom-license]~=0.4.2->gymnasium[accept-rom-license,atari]) (3.3.2)\n",
            "Requirement already satisfied: idna<4,>=2.5 in /usr/local/lib/python3.10/dist-packages (from requests->autorom[accept-rom-license]~=0.4.2->gymnasium[accept-rom-license,atari]) (3.7)\n",
            "Requirement already satisfied: urllib3<3,>=1.21.1 in /usr/local/lib/python3.10/dist-packages (from requests->autorom[accept-rom-license]~=0.4.2->gymnasium[accept-rom-license,atari]) (2.0.7)\n",
            "Requirement already satisfied: certifi>=2017.4.17 in /usr/local/lib/python3.10/dist-packages (from requests->autorom[accept-rom-license]~=0.4.2->gymnasium[accept-rom-license,atari]) (2024.2.2)\n",
            "Building wheels for collected packages: AutoROM.accept-rom-license\n",
            "  Building wheel for AutoROM.accept-rom-license (pyproject.toml) ... \u001b[?25l\u001b[?25hdone\n",
            "  Created wheel for AutoROM.accept-rom-license: filename=AutoROM.accept_rom_license-0.6.1-py3-none-any.whl size=446659 sha256=b19eb341dde65925612fee21874791a9565dfbfbd5de30fd1aa8958054936e5e\n",
            "  Stored in directory: /root/.cache/pip/wheels/6b/1b/ef/a43ff1a2f1736d5711faa1ba4c1f61be1131b8899e6a057811\n",
            "Successfully built AutoROM.accept-rom-license\n",
            "Installing collected packages: ale-py, shimmy, AutoROM.accept-rom-license, autorom\n",
            "Successfully installed AutoROM.accept-rom-license-0.6.1 ale-py-0.8.1 autorom-0.4.2 shimmy-0.2.1\n",
            "Reading package lists... Done\n",
            "Building dependency tree... Done\n",
            "Reading state information... Done\n",
            "The following additional packages will be installed:\n",
            "  swig4.0\n",
            "Suggested packages:\n",
            "  swig-doc swig-examples swig4.0-examples swig4.0-doc\n",
            "The following NEW packages will be installed:\n",
            "  swig swig4.0\n",
            "0 upgraded, 2 newly installed, 0 to remove and 45 not upgraded.\n",
            "Need to get 1,116 kB of archives.\n",
            "After this operation, 5,542 kB of additional disk space will be used.\n",
            "Get:1 http://archive.ubuntu.com/ubuntu jammy/universe amd64 swig4.0 amd64 4.0.2-1ubuntu1 [1,110 kB]\n",
            "Get:2 http://archive.ubuntu.com/ubuntu jammy/universe amd64 swig all 4.0.2-1ubuntu1 [5,632 B]\n",
            "Fetched 1,116 kB in 2s (509 kB/s)\n",
            "Selecting previously unselected package swig4.0.\n",
            "(Reading database ... 121918 files and directories currently installed.)\n",
            "Preparing to unpack .../swig4.0_4.0.2-1ubuntu1_amd64.deb ...\n",
            "Unpacking swig4.0 (4.0.2-1ubuntu1) ...\n",
            "Selecting previously unselected package swig.\n",
            "Preparing to unpack .../swig_4.0.2-1ubuntu1_all.deb ...\n",
            "Unpacking swig (4.0.2-1ubuntu1) ...\n",
            "Setting up swig4.0 (4.0.2-1ubuntu1) ...\n",
            "Setting up swig (4.0.2-1ubuntu1) ...\n",
            "Processing triggers for man-db (2.10.2-1) ...\n",
            "Requirement already satisfied: gymnasium[box2d] in /usr/local/lib/python3.10/dist-packages (0.29.1)\n",
            "Requirement already satisfied: numpy>=1.21.0 in /usr/local/lib/python3.10/dist-packages (from gymnasium[box2d]) (1.25.2)\n",
            "Requirement already satisfied: cloudpickle>=1.2.0 in /usr/local/lib/python3.10/dist-packages (from gymnasium[box2d]) (2.2.1)\n",
            "Requirement already satisfied: typing-extensions>=4.3.0 in /usr/local/lib/python3.10/dist-packages (from gymnasium[box2d]) (4.11.0)\n",
            "Requirement already satisfied: farama-notifications>=0.0.1 in /usr/local/lib/python3.10/dist-packages (from gymnasium[box2d]) (0.0.4)\n",
            "Collecting box2d-py==2.3.5 (from gymnasium[box2d])\n",
            "  Downloading box2d-py-2.3.5.tar.gz (374 kB)\n",
            "\u001b[2K     \u001b[90m━━━━━━━━━━━━━━━━━━━━━━━━━━━━━━━━━━━━━━━━\u001b[0m \u001b[32m374.4/374.4 kB\u001b[0m \u001b[31m4.3 MB/s\u001b[0m eta \u001b[36m0:00:00\u001b[0m\n",
            "\u001b[?25h  Preparing metadata (setup.py) ... \u001b[?25l\u001b[?25hdone\n",
            "Requirement already satisfied: pygame>=2.1.3 in /usr/local/lib/python3.10/dist-packages (from gymnasium[box2d]) (2.5.2)\n",
            "Collecting swig==4.* (from gymnasium[box2d])\n",
            "  Downloading swig-4.2.1-py2.py3-none-manylinux_2_5_x86_64.manylinux1_x86_64.whl (1.9 MB)\n",
            "\u001b[2K     \u001b[90m━━━━━━━━━━━━━━━━━━━━━━━━━━━━━━━━━━━━━━━━\u001b[0m \u001b[32m1.9/1.9 MB\u001b[0m \u001b[31m8.6 MB/s\u001b[0m eta \u001b[36m0:00:00\u001b[0m\n",
            "\u001b[?25hBuilding wheels for collected packages: box2d-py\n",
            "  Building wheel for box2d-py (setup.py) ... \u001b[?25l\u001b[?25hdone\n",
            "  Created wheel for box2d-py: filename=box2d_py-2.3.5-cp310-cp310-linux_x86_64.whl size=2349144 sha256=bbc680620ef28f9398b8b132a46210a458060b4b7a70363eab3e35d8b1bba9b0\n",
            "  Stored in directory: /root/.cache/pip/wheels/db/8f/6a/eaaadf056fba10a98d986f6dce954e6201ba3126926fc5ad9e\n",
            "Successfully built box2d-py\n",
            "Installing collected packages: swig, box2d-py\n",
            "Successfully installed box2d-py-2.3.5 swig-4.2.1\n"
          ]
        }
      ],
      "source": [
        "!pip install gymnasium\n",
        "!pip install \"gymnasium[atari, accept-rom-license]\"\n",
        "!apt-get install -y swig\n",
        "!pip install gymnasium[box2d]"
      ]
    },
    {
      "cell_type": "markdown",
      "metadata": {
        "id": "brqiMN3UW9T9"
      },
      "source": [
        "### Importing the libraries"
      ]
    },
    {
      "cell_type": "code",
      "execution_count": 4,
      "metadata": {
        "id": "mZaKXP_aMl9O"
      },
      "outputs": [],
      "source": [
        "import os\n",
        "import random\n",
        "import numpy as np\n",
        "import torch\n",
        "import torch.nn as nn\n",
        "import torch.optim as optim\n",
        "import torch.nn.functional as F\n",
        "import torch.autograd as autograd\n",
        "from torch.autograd import Variable\n",
        "from collections import deque, namedtuple"
      ]
    },
    {
      "cell_type": "markdown",
      "metadata": {
        "id": "EzlDKXvkXzGI"
      },
      "source": [
        "## Part 1 - Building the AI"
      ]
    },
    {
      "cell_type": "markdown",
      "metadata": {
        "id": "UtG6Zc83YYy3"
      },
      "source": [
        "### Creating the architecture of the Neural Network"
      ]
    },
    {
      "cell_type": "code",
      "source": [
        "class Network(nn.Module):\n",
        "\n",
        "  def __init__(self, state_size, action_size, seed = 42):\n",
        "    super(Network, self).__init__()\n",
        "    self.seed = torch.manual_seed(seed)\n",
        "    self.fc1 = nn.Linear(state_size, 64)\n",
        "    self.fc2 = nn.Linear(64, 64)\n",
        "    self.fc3 = nn.Linear(64, action_size)\n",
        "\n",
        "  def forward(self, state):\n",
        "    x = self.fc1(state)\n",
        "    x = F.relu(x)\n",
        "    x = self.fc2(x)\n",
        "    x = F.relu(x)\n",
        "    return self.fc3(x)"
      ],
      "metadata": {
        "id": "h9oUxasLEJx9"
      },
      "execution_count": 5,
      "outputs": []
    },
    {
      "cell_type": "markdown",
      "metadata": {
        "id": "UxVrBnFWZKb1"
      },
      "source": [
        "## Part 2 - Training the AI"
      ]
    },
    {
      "cell_type": "markdown",
      "metadata": {
        "id": "T364fz9qZb2j"
      },
      "source": [
        "### Setting up the environment"
      ]
    },
    {
      "cell_type": "code",
      "source": [
        "import gymnasium as gym\n",
        "env = gym.make('LunarLander-v2')\n",
        "state_shape = env.observation_space.shape\n",
        "state_size = env.observation_space.shape[0]\n",
        "number_actions = env.action_space.n\n",
        "print('State shape: ', state_shape)\n",
        "print('State size: ', state_size)\n",
        "print('Number of actions: ', number_actions)"
      ],
      "metadata": {
        "colab": {
          "base_uri": "https://localhost:8080/"
        },
        "id": "NUWiCFWySXIh",
        "outputId": "2b4ecf84-6dfe-4c4b-8375-41447dff6115"
      },
      "execution_count": 6,
      "outputs": [
        {
          "output_type": "stream",
          "name": "stdout",
          "text": [
            "State shape:  (8,)\n",
            "State size:  8\n",
            "Number of actions:  4\n"
          ]
        }
      ]
    },
    {
      "cell_type": "markdown",
      "metadata": {
        "id": "c_dZmOIvZgj-"
      },
      "source": [
        "### Initializing the hyperparameters"
      ]
    },
    {
      "cell_type": "code",
      "source": [
        "learning_rate = 5e-4\n",
        "minibatch_size = 100\n",
        "discount_factor = 0.99\n",
        "replay_buffer_size = int(1e5)\n",
        "interpolation_parameter = 1e-3"
      ],
      "metadata": {
        "id": "bNKnUzj1Oqz8"
      },
      "execution_count": 7,
      "outputs": []
    },
    {
      "cell_type": "markdown",
      "metadata": {
        "id": "8hD_Vs-bYnip"
      },
      "source": [
        "### Implementing Experience Replay"
      ]
    },
    {
      "cell_type": "code",
      "source": [
        "class ReplayMemory(object):\n",
        "\n",
        "  def __init__(self, capacity):\n",
        "    self.device = torch.device(\"cuda:0\" if torch.cuda.is_available() else \"cpu\")\n",
        "    self.capacity = capacity\n",
        "    self.memory = []\n",
        "\n",
        "  def push(self, event):\n",
        "    self.memory.append(event)\n",
        "    if len(self.memory) > self.capacity:\n",
        "      del self.memory[0]\n",
        "\n",
        "  def sample(self, batch_size):\n",
        "    experiences = random.sample(self.memory, k = batch_size)\n",
        "    states = torch.from_numpy(np.vstack([e[0] for e in experiences if e is not None])).float().to(self.device)\n",
        "    actions = torch.from_numpy(np.vstack([e[1] for e in experiences if e is not None])).long().to(self.device)\n",
        "    rewards = torch.from_numpy(np.vstack([e[2] for e in experiences if e is not None])).float().to(self.device)\n",
        "    next_states = torch.from_numpy(np.vstack([e[3] for e in experiences if e is not None])).float().to(self.device)\n",
        "    dones = torch.from_numpy(np.vstack([e[4] for e in experiences if e is not None]).astype(np.uint8)).float().to(self.device)\n",
        "    return states, next_states, actions, rewards, dones"
      ],
      "metadata": {
        "id": "QaEChoj_uRoe"
      },
      "execution_count": 8,
      "outputs": []
    },
    {
      "cell_type": "markdown",
      "metadata": {
        "id": "JmEkbFbUY6Jt"
      },
      "source": [
        "### Implementing the DQN class"
      ]
    },
    {
      "cell_type": "code",
      "source": [
        "class Agent():\n",
        "\n",
        "  def __init__(self, state_size, action_size):\n",
        "    self.device = torch.device(\"cuda:0\" if torch.cuda.is_available() else \"cpu\")\n",
        "    self.state_size = state_size\n",
        "    self.action_size = action_size\n",
        "    self.local_qnetwork = Network(state_size, action_size).to(self.device)\n",
        "    self.target_qnetwork = Network(state_size, action_size).to(self.device)\n",
        "    self.optimizer = optim.Adam(self.local_qnetwork.parameters(), lr = learning_rate)\n",
        "    self.memory = ReplayMemory(replay_buffer_size)\n",
        "    self.t_step = 0\n",
        "\n",
        "  def step(self, state, action, reward, next_state, done):\n",
        "    self.memory.push((state, action, reward, next_state, done))\n",
        "    self.t_step = (self.t_step + 1) % 4\n",
        "    if self.t_step == 0:\n",
        "      if len(self.memory.memory) > minibatch_size:\n",
        "        experiences = self.memory.sample(100)\n",
        "        self.learn(experiences, discount_factor)\n",
        "\n",
        "  def act(self, state, epsilon = 0.):\n",
        "    state = torch.from_numpy(state).float().unsqueeze(0).to(self.device)\n",
        "    self.local_qnetwork.eval()\n",
        "    with torch.no_grad():\n",
        "      action_values = self.local_qnetwork(state)\n",
        "    self.local_qnetwork.train()\n",
        "    if random.random() > epsilon:\n",
        "      return np.argmax(action_values.cpu().data.numpy())\n",
        "    else:\n",
        "      return random.choice(np.arange(self.action_size))\n",
        "\n",
        "  def learn(self, experiences, discount_factor):\n",
        "    states, next_states, actions, rewards, dones = experiences\n",
        "    next_q_targets = self.target_qnetwork(next_states).detach().max(1)[0].unsqueeze(1)\n",
        "    q_targets = rewards + discount_factor * next_q_targets * (1 - dones)\n",
        "    q_expected = self.local_qnetwork(states).gather(1, actions)\n",
        "    loss = F.mse_loss(q_expected, q_targets)\n",
        "    self.optimizer.zero_grad()\n",
        "    loss.backward()\n",
        "    self.optimizer.step()\n",
        "    self.soft_update(self.local_qnetwork, self.target_qnetwork, interpolation_parameter)\n",
        "\n",
        "  def soft_update(self, local_model, target_model, interpolation_parameter):\n",
        "    for target_param, local_param in zip(target_model.parameters(), local_model.parameters()):\n",
        "      target_param.data.copy_(interpolation_parameter * local_param.data + (1.0 - interpolation_parameter) * target_param.data)"
      ],
      "metadata": {
        "id": "iokmjTKJ9E3U"
      },
      "execution_count": 9,
      "outputs": []
    },
    {
      "cell_type": "markdown",
      "metadata": {
        "id": "o1tZElccZmf6"
      },
      "source": [
        "### Initializing the DQN agent"
      ]
    },
    {
      "cell_type": "code",
      "source": [
        "agent = Agent(state_size, number_actions)"
      ],
      "metadata": {
        "id": "cGbpJJvLjmIw"
      },
      "execution_count": 10,
      "outputs": []
    },
    {
      "cell_type": "markdown",
      "metadata": {
        "id": "E8v0PtUfaVQp"
      },
      "source": [
        "### Training the DQN agent"
      ]
    },
    {
      "cell_type": "code",
      "source": [
        "number_episodes = 2000\n",
        "maximum_number_timesteps_per_episode = 1000\n",
        "epsilon_starting_value  = 1.0\n",
        "epsilon_ending_value  = 0.01\n",
        "epsilon_decay_value  = 0.995\n",
        "epsilon = epsilon_starting_value\n",
        "scores_on_100_episodes = deque(maxlen = 100)\n",
        "\n",
        "for episode in range(1, number_episodes + 1):\n",
        "  state, _ = env.reset()\n",
        "  score = 0\n",
        "  for t in range(maximum_number_timesteps_per_episode):\n",
        "    action = agent.act(state, epsilon)\n",
        "    next_state, reward, done, _, _ = env.step(action)\n",
        "    agent.step(state, action, reward, next_state, done)\n",
        "    state = next_state\n",
        "    score += reward\n",
        "    if done:\n",
        "      break\n",
        "  scores_on_100_episodes.append(score)\n",
        "  epsilon = max(epsilon_ending_value, epsilon_decay_value * epsilon)\n",
        "  print('\\rEpisode {}\\tAverage Score: {:.2f}'.format(episode, np.mean(scores_on_100_episodes)), end = \"\")\n",
        "  if episode % 100 == 0:\n",
        "    print('\\rEpisode {}\\tAverage Score: {:.2f}'.format(episode, np.mean(scores_on_100_episodes)))\n",
        "  if np.mean(scores_on_100_episodes) >= 200.0:\n",
        "    print('\\nEnvironment solved in {:d} episodes!\\tAverage Score: {:.2f}'.format(episode - 100, np.mean(scores_on_100_episodes)))\n",
        "    torch.save(agent.local_qnetwork.state_dict(), 'checkpoint.pth')\n",
        "    break"
      ],
      "metadata": {
        "colab": {
          "base_uri": "https://localhost:8080/"
        },
        "id": "2ybZW6Im-Bwj",
        "outputId": "78197aaa-56ff-4da3-9f48-94d0cebe0756"
      },
      "execution_count": 11,
      "outputs": [
        {
          "output_type": "stream",
          "name": "stdout",
          "text": [
            "Episode 100\tAverage Score: -186.26\n",
            "Episode 200\tAverage Score: -82.91\n",
            "Episode 300\tAverage Score: -18.76\n",
            "Episode 400\tAverage Score: 97.33\n",
            "Episode 500\tAverage Score: 164.19\n",
            "Episode 600\tAverage Score: 163.57\n",
            "Episode 700\tAverage Score: 195.18\n",
            "Episode 712\tAverage Score: 201.70\n",
            "Environment solved in 612 episodes!\tAverage Score: 201.70\n"
          ]
        }
      ]
    },
    {
      "cell_type": "markdown",
      "metadata": {
        "id": "O8CNwdOTcCoP"
      },
      "source": [
        "## Part 3 - Visualizing the results"
      ]
    },
    {
      "cell_type": "code",
      "execution_count": 12,
      "metadata": {
        "id": "cb9nVvU2Okhk",
        "colab": {
          "base_uri": "https://localhost:8080/",
          "height": 459
        },
        "outputId": "641144c4-ae60-4153-aff9-e1cc2083ec58"
      },
      "outputs": [
        {
          "output_type": "stream",
          "name": "stderr",
          "text": [
            "WARNING:imageio_ffmpeg:IMAGEIO FFMPEG_WRITER WARNING: input image is not divisible by macro_block_size=16, resizing from (600, 400) to (608, 400) to ensure video compatibility with most codecs and players. To prevent resizing, make your input image divisible by the macro_block_size or set the macro_block_size to 1 (risking incompatibility).\n"
          ]
        },
        {
          "output_type": "display_data",
          "data": {
            "text/plain": [
              "<IPython.core.display.HTML object>"
            ],
            "text/html": [
              "<video alt=\"test\" autoplay\n",
              "                loop controls style=\"height: 400px;\">\n",
              "                <source src=\"data:video/mp4;base64,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\" type=\"video/mp4\" />\n",
              "             </video>"
            ]
          },
          "metadata": {}
        }
      ],
      "source": [
        "import glob\n",
        "import io\n",
        "import base64\n",
        "import imageio\n",
        "from IPython.display import HTML, display\n",
        "from gym.wrappers.monitoring.video_recorder import VideoRecorder\n",
        "\n",
        "def show_video_of_model(agent, env_name):\n",
        "    env = gym.make(env_name, render_mode='rgb_array')\n",
        "    state, _ = env.reset()\n",
        "    done = False\n",
        "    frames = []\n",
        "    while not done:\n",
        "        frame = env.render()\n",
        "        frames.append(frame)\n",
        "        action = agent.act(state)\n",
        "        state, reward, done, _, _ = env.step(action.item())\n",
        "    env.close()\n",
        "    imageio.mimsave('video.mp4', frames, fps=30)\n",
        "\n",
        "show_video_of_model(agent, 'LunarLander-v2')\n",
        "\n",
        "def show_video():\n",
        "    mp4list = glob.glob('*.mp4')\n",
        "    if len(mp4list) > 0:\n",
        "        mp4 = mp4list[0]\n",
        "        video = io.open(mp4, 'r+b').read()\n",
        "        encoded = base64.b64encode(video)\n",
        "        display(HTML(data='''<video alt=\"test\" autoplay\n",
        "                loop controls style=\"height: 400px;\">\n",
        "                <source src=\"data:video/mp4;base64,{0}\" type=\"video/mp4\" />\n",
        "             </video>'''.format(encoded.decode('ascii'))))\n",
        "    else:\n",
        "        print(\"Could not find video\")\n",
        "\n",
        "show_video()"
      ]
    }
  ],
  "metadata": {
    "colab": {
      "provenance": []
    },
    "kernelspec": {
      "display_name": "Python 3",
      "name": "python3"
    },
    "language_info": {
      "name": "python"
    }
  },
  "nbformat": 4,
  "nbformat_minor": 0
}